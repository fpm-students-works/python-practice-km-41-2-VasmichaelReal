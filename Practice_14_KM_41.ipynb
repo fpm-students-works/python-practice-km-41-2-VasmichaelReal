{
  "cells": [
    {
      "cell_type": "markdown",
      "metadata": {
        "id": "FMqboNwO4rVs"
      },
      "source": [
        "# **Курс \"Програмування на мові Python\"**"
      ]
    },
    {
      "cell_type": "markdown",
      "metadata": {
        "id": "A2T6MigL5Z06"
      },
      "source": [
        "## **Практичне зайняття №16**\n",
        "\n",
        "### Тема: \"Декоратори\""
      ]
    },
    {
      "cell_type": "markdown",
      "metadata": {},
      "source": [
        "### **Завдання 1 (3 бали)**\n",
        "\n",
        "Реалізуйте підрахунок площі трикутника з використанням декоратора, який перевірятиме можливість побудови трикутника з трьох введених користувачем сторін.\n",
        "\n",
        "1. Напишіть функцію area_calculation, яка підраховуватиме площу трикутника за трьома сторонами. Для підрахунку можете скористатись формулою Герона.\n",
        "\n",
        "2. Напишіть функцію check, яка перевірятиме правильність введених користувачем значень (значення мають бути додатними числами, не обов'язково цілими).\n",
        "\n",
        "3. Створіть декоратор triangle_ineq, який перевірятиме виконання нерівності трикутрика для трьох заданих користувачем сторін. Навісьте декоратор triangle_ineq на функція area_calculation та перевірте правильність роботи програми."
      ]
    },
    {
      "cell_type": "code",
      "execution_count": null,
      "metadata": {},
      "outputs": [],
      "source": [
        "import math\n",
        "\n",
        "#Декоратор для перевірки нерівності трикутника\n",
        "def triangle_ineq(func):\n",
        "    def wrapper(a, b, c):\n",
        "        if a + b > c and a + c > b and b + c > a:\n",
        "            return func(a, b, c)\n",
        "        else:\n",
        "            return \"Трикутник із заданими сторонами неможливо побудувати.\"\n",
        "    return wrapper\n",
        "\n",
        "#Функція для перевірки правильності введених значень\n",
        "def check(value):\n",
        "    try:\n",
        "        value = float(value)\n",
        "        if value > 0:\n",
        "            return value\n",
        "        else:\n",
        "            raise ValueError(\"Сторона трикутника має бути додатним числом.\")\n",
        "    except ValueError as e:\n",
        "        raise ValueError(f\"Некоректне значення: {e}\")\n",
        "\n",
        "#Функція для обчислення площі трикутника\n",
        "@triangle_ineq\n",
        "def area_calculation(a, b, c):\n",
        "    s = (a + b + c) / 2  # Півпериметр\n",
        "    return math.sqrt(s * (s - a) * (s - b) * (s - c))\n",
        "\n",
        "#Введення даних користувачем\n",
        "try:\n",
        "    a = check(input(\"Введіть першу сторону трикутника: \"))\n",
        "    b = check(input(\"Введіть другу сторону трикутника: \"))\n",
        "    c = check(input(\"Введіть третю сторону трикутника: \"))\n",
        "    \n",
        "    #Обчислення площі\n",
        "    result = area_calculation(a, b, c)\n",
        "    print(f\"Площа трикутника: {result}\" if isinstance(result, float) else result)\n",
        "except ValueError as e:\n",
        "    print(e)\n"
      ]
    }
  ],
  "metadata": {
    "colab": {
      "collapsed_sections": [],
      "name": "Practice_10-11_KM_01_.ipynb",
      "provenance": []
    },
    "kernelspec": {
      "display_name": "Python 3",
      "name": "python3"
    }
  },
  "nbformat": 4,
  "nbformat_minor": 0
}
