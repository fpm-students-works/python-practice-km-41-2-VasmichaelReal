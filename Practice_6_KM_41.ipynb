{
  "cells": [
    {
      "cell_type": "markdown",
      "metadata": {
        "id": "FMqboNwO4rVs"
      },
      "source": [
        "# **Курс \"Програмування на мові Python\"**"
      ]
    },
    {
      "cell_type": "markdown",
      "metadata": {
        "id": "A2T6MigL5Z06"
      },
      "source": [
        "## **Практичне зайняття №6**\n",
        "### Тема: \"Робота з кортежами, множинами та словниками\""
      ]
    },
    {
      "cell_type": "markdown",
      "metadata": {
        "id": "4AV5CN7N4xja"
      },
      "source": [
        "### **Завдання 1 (1,5 бали)**\n",
        "\n",
        "Напишіть програму, яка визначала б, чи можна з літер однієї фрази скласти іншу фразу. Наприклад:\n",
        "\n",
        "\"William Shakespeare\" -> \"A small spark\"\n",
        "\n",
        "Перша фраза містить 11 унікальних літер (хоча деякі повторюються): a, e, h, i, k, l, m, p, r, s та w. Друга фраза містить 7 унікальних літер: a, k, l, m, p, r та s. Кожна з літер другої фрази зустрічається принаймні один раз у першій фразі.\n",
        "\n",
        "1. Обидві фрази повинні вводитись користувачем з клавіатури.\n",
        "\n",
        "2. Скористайтесь властивістю множин у мові програмування Python для виділення колекції унікальних літер.\n",
        "\n",
        "3. У множину не повинні потрапити пробіли, розділові знаки та інші символи, що не є літерами (скористайтесь методом **isalpha()**). Також усі літери мають бути переведені в нижній або верхній регістр (скористайтесь методами **lower()** або **upper()**).\n",
        "\n",
        "4. Зверніть увагу на те, що літери як в першій, так і вдругій фразі можуть повторюватись. Однак множина унікальних літер другої фрази повинна бути підмножиною множини унікальних літер першої фрази.\n",
        "\n",
        "5. У складі змістовного повідомлення програма повинна виводити множину літер першої фрази, множину літер другої фрази, а також змістовне повідомлення про те, чи можна скласти з літер першої фрази другу фразу."
      ]
    },
    {
      "cell_type": "code",
      "execution_count": 2,
      "metadata": {
        "id": "9Mesp1jV4xjb"
      },
      "outputs": [
        {
          "name": "stdout",
          "output_type": "stream",
          "text": [
            "Set of letters of the first phrase: {'m', 'k', 'l', 'a', 'p', 'h', 'w', 'r', 'i', 'e', 's'}\n",
            "Set of letters of the second phrase: {'m', 'k', 'l', 'a', 'p', 'e', 's'}\n",
            "You can use the letters of the first phrase to create a second phrase.\n"
          ]
        }
      ],
      "source": [
        "#Input block\n",
        "phrase1 = input(\"Input first phrase: \")\n",
        "phrase2 = input(\"Input second phrase: \")\n",
        "\n",
        "letters1 = set()\n",
        "letters2 = set()\n",
        "\n",
        "for char in phrase1:\n",
        "    if char.isalpha():\n",
        "        letters1.add(char.lower())\n",
        "\n",
        "for char in phrase2:\n",
        "    if char.isalpha():\n",
        "        letters2.add(char.lower())\n",
        "\n",
        "#Output block\n",
        "print(f\"Set of letters of the first phrase: {letters1}\")\n",
        "print(f\"Set of letters of the second phrase: {letters2}\")\n",
        "\n",
        "if letters2.issubset(letters1):\n",
        "    print(\"You can use the letters of the first phrase to create a second phrase.\")\n",
        "else:\n",
        "    print(\"The letters of the first phrase cannot be used to form the second phrase.\")\n"
      ]
    },
    {
      "cell_type": "markdown",
      "metadata": {
        "id": "t7fqn1NN-J7z"
      },
      "source": [
        "### **Завдання 2 (1,5 бали)**\n",
        "\n",
        "Скрабл (Ерудит) - це настільна гра, в якій від 2 до 4 гравців складають слова з наявних літер на полі розміром 15 х 15. За кожну використану літеру гравець отримує певну кількість балів. Перелік літер та балів, які можна отримати за використання цих літер, подано у таблиці.\n",
        "\n",
        "Бали | Літери\n",
        "--- | ---\n",
        "1 | A, E, I, L, N, O, R, S, T, U\n",
        "2 | D, G\n",
        "3 | B, C, M, P\n",
        "4 | F, H, V, W, Y\n",
        "5 | K\n",
        "8 | J, X\n",
        "10 | Q, Z\n",
        "\n",
        "Напишіть програму, яка підраховує та виводить загальну кількість балів, яку можна отримати за слово, введене користувачем з клавіатури.\n",
        "\n",
        "1. Скористайтесь словником для збереження усіх балів та літер, за які ці бали нараховуються. \n",
        "\n",
        "2. Якщо користувач введе кілька слів, виведіть бали, які можна отримати за кожне з них окремо.\n",
        "\n",
        "3. Якщо користувач введе символи, що не є літерами (окрім пробіла, який можна використовувати для розділення слів), програма має їх ігнорувати.\n",
        "\n",
        "4. Програма повинна приймати літери як верхнього, так і нижнього регістрів.\n",
        "\n",
        "Наприклад, якщо користувач введе \"Hello, World!\", програма повинна вивести:\n",
        "\n",
        "8 9\n",
        "\n",
        "або більш розгорнутий варіант (за бажанням):\n",
        "\n",
        "4+1+1+1+1=8\n",
        "\n",
        "4+1+1+1+2=9"
      ]
    },
    {
      "cell_type": "code",
      "execution_count": 6,
      "metadata": {
        "id": "EVY800vg4xjg"
      },
      "outputs": [
        {
          "name": "stdout",
          "output_type": "stream",
          "text": [
            "8 9 \n"
          ]
        }
      ],
      "source": [
        "letter_scores = {\n",
        "    1: \"AEILNORSTU\", 2: \"DG\", 3: \"BCMP\",\n",
        "    4: \"FHVWY\", 5: \"K\", 8: \"JX\", 10: \"QZ\"\n",
        "}\n",
        "\n",
        "\n",
        "scores = {}\n",
        "for score, letters in letter_scores.items():\n",
        "    for letter in letters:\n",
        "        scores[letter] = score\n",
        "\n",
        "#Input block\n",
        "user_input = input(\"Input words separated by spaces: \")\n",
        "words = user_input.split()\n",
        "\n",
        "#Output block\n",
        "output = \"\"\n",
        "for word in words:\n",
        "    total_score = 0\n",
        "    for char in word:\n",
        "        if char.isalpha():\n",
        "            total_score += scores.get(char.upper(), 0)\n",
        "    output += str(total_score) + \" \"\n",
        "print(output)\n"
      ]
    }
  ],
  "metadata": {
    "colab": {
      "collapsed_sections": [],
      "name": "Practice_5_KM-03_.ipynb",
      "provenance": []
    },
    "kernelspec": {
      "display_name": "Python 3",
      "language": "python",
      "name": "python3"
    },
    "language_info": {
      "codemirror_mode": {
        "name": "ipython",
        "version": 3
      },
      "file_extension": ".py",
      "mimetype": "text/x-python",
      "name": "python",
      "nbconvert_exporter": "python",
      "pygments_lexer": "ipython3",
      "version": "3.12.6"
    }
  },
  "nbformat": 4,
  "nbformat_minor": 2
}
